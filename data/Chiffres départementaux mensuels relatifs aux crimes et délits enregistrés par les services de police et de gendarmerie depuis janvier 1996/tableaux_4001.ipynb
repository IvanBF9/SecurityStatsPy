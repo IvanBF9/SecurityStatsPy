{
 "cells": [
  {
   "cell_type": "code",
   "execution_count": null,
   "metadata": {},
   "outputs": [
    {
     "ename": "",
     "evalue": "",
     "output_type": "error",
     "traceback": [
      "\u001b[1;31mThe kernel failed to start as a dll could not be loaded.\n",
      "\u001b[1;31mCliquez sur <a href='https://aka.ms/kernelFailuresDllLoad'>ici</a> pour plus d’informations."
     ]
    }
   ],
   "source": [
    "import pandas as pd\n",
    "# filepath = 'tableaux-4001-ts.xlsx'\n",
    "# xl = pd.ExcelFile('tableaux-4001-ts.xlsx')\n",
    "# print(xl.sheet_names)\n",
    "# dict_df = pd.read_excel(filepath, xl.sheet_names)"
   ]
  }
 ],
 "metadata": {
  "kernelspec": {
   "display_name": "Python 3.9.12 64-bit (system)",
   "language": "python",
   "name": "python3"
  },
  "language_info": {
   "name": "python",
   "version": "3.9.12"
  },
  "orig_nbformat": 4,
  "vscode": {
   "interpreter": {
    "hash": "5bbd5ede2f02da2d359f43b39b86d7eaa57e34bf868e994c1a6f19ea1ba724f9"
   }
  }
 },
 "nbformat": 4,
 "nbformat_minor": 2
}
