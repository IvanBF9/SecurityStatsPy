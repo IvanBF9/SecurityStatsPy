{
 "cells": [
  {
   "cell_type": "code",
   "execution_count": 1,
   "id": "d637ee4c",
   "metadata": {},
   "outputs": [],
   "source": [
    "import pandas as pd"
   ]
  },
  {
   "cell_type": "code",
   "execution_count": 2,
   "id": "612d515c",
   "metadata": {},
   "outputs": [
    {
     "name": "stdout",
     "output_type": "stream",
     "text": [
      "['France_Entière', 'France_Métro', '01', '02', '03', '04', '05', '06', '07', '08', '09', '10', '11', '12', '13', '14', '15', '16', '17', '18', '19', '2A', '2B', '21', '22', '23', '24', '25', '26', '27', '28', '29', '30', '31', '32', '33', '34', '35', '36', '37', '38', '39', '40', '41', '42', '43', '44', '45', '46', '47', '48', '49', '50', '51', '52', '53', '54', '55', '56', '57', '58', '59', '60', '61', '62', '63', '64', '65', '66', '67', '68', '69', '70', '71', '72', '73', '74', '75', '76', '77', '78', '79', '80', '81', '82', '83', '84', '85', '86', '87', '88', '89', '90', '91', '92', '93', '94', '95', '971', '972', '973', '974', '975', '976', '977', '978', '986', '987', '988']\n"
     ]
    }
   ],
   "source": [
    "filepath = 'tableaux-4001-ts.xlsx'\n",
    "xl = pd.ExcelFile('tableaux-4001-ts.xlsx')\n",
    "print(xl.sheet_names)\n",
    "dict_df = pd.read_excel(filepath, xl.sheet_names)"
   ]
  },
  {
   "cell_type": "code",
   "execution_count": 3,
   "id": "f2785b11",
   "metadata": {},
   "outputs": [
    {
     "name": "stdout",
     "output_type": "stream",
     "text": [
      "['01', '02', '03', '04', '05', '06', '07', '08', '09', '10', '11', '12', '13', '14', '15', '16', '17', '18', '19', '2A', '2B', '21', '22', '23', '24', '25', '26', '27', '28', '29', '30', '31', '32', '33', '34', '35', '36', '37', '38', '39', '40', '41', '42', '43', '44', '45', '46', '47', '48', '49', '50', '51', '52', '53', '54', '55', '56', '57', '58', '59', '60', '61', '62', '63', '64', '65', '66', '67', '68', '69', '70', '71', '72', '73', '74', '75', '76', '77', '78', '79', '80', '81', '82', '83', '84', '85', '86', '87', '88', '89', '90', '91', '92', '93', '94', '95']\n"
     ]
    }
   ],
   "source": [
    "names = xl.sheet_names[2:-11]\n",
    "print(names)\n",
    "test_df = pd.DataFrame()\n",
    "test_df['departement'] = \"1\"\n",
    "for name in names:\n",
    "    test_df = pd.concat([test_df, pd.read_excel(xl, name)])\n",
    "# test_df"
   ]
  },
  {
   "cell_type": "code",
   "execution_count": 4,
   "id": "444d7f25",
   "metadata": {},
   "outputs": [],
   "source": [
    "dict_year = {}\n",
    "test_df['departement'] = \"1\"\n",
    "for col_name in test_df.columns:\n",
    "    if '_' in col_name:\n",
    "        s=col_name.split(\"_\")\n",
    "        year = s[1]\n",
    "        month = s[2]\n",
    "        if year in col_name:\n",
    "            if year in dict_year:\n",
    "                  dict_year[year].append(col_name)\n",
    "            else:\n",
    "                  dict_year[year] = [col_name]\n",
    "for year in dict_year:\n",
    "    test_df[year] = test_df[dict_year[year]].sum(axis=1)\n",
    "for col_name in test_df.columns:\n",
    "    if '_' in col_name:\n",
    "        test_df = test_df.drop(col_name, axis=1)"
   ]
  },
  {
   "cell_type": "code",
   "execution_count": 16,
   "id": "54e60ce0",
   "metadata": {},
   "outputs": [],
   "source": [
    "# test_df = test_df.set_index('libellé index')\n",
    "number =  \"00\"\n",
    "test_df['departement'] = number\n",
    "for col_name in test_df.T.columns:\n",
    "    if col_name == '1':\n",
    "        print(col_name,test_df['departement'][col_name])"
   ]
  },
  {
   "cell_type": "code",
   "execution_count": 9,
   "id": "f4a37ac7",
   "metadata": {},
   "outputs": [],
   "source": [
    "test_df.to_csv('test.csv', index=False)"
   ]
  },
  {
   "cell_type": "code",
   "execution_count": null,
   "id": "f0fed796",
   "metadata": {},
   "outputs": [],
   "source": [
    "tab4001 = pd.read_excel('tableaux-4001-ts.xlsx', sheet_name=2)\n",
    "tab4001 = tab4001.drop(['Index'], axis=1)\n",
    "tab4001.set_index('libellé index', inplace=True)\n",
    "tab4001 = tab4001.T\n",
    "tab4001['dept'] = '1'\n",
    "tab4001 = tab4001.reset_index()\n",
    "\n",
    "for i in range(3,98):\n",
    "    df = pd.read_excel('tableaux-4001-ts.xlsx', sheet_name=i)\n",
    "    df = df.drop(['Index'], axis=1)\n",
    "    df.set_index('libellé index', inplace=True)\n",
    "    df = df.T\n",
    "    if i < 21:\n",
    "        dept = str(i - 1)\n",
    "    elif i == 21:\n",
    "        dept = '2A'\n",
    "    elif i == 22:\n",
    "        dept = '2B'\n",
    "    elif i > 22:\n",
    "        dept = str(i - 2)\n",
    "    df['dept'] = dept\n",
    "    df = df.reset_index()\n",
    "    tab4001 = pd.concat([tab4001, df], ignore_index=True)"
   ]
  }
 ],
 "metadata": {
  "kernelspec": {
   "display_name": "Python 3 (ipykernel)",
   "language": "python",
   "name": "python3"
  },
  "language_info": {
   "codemirror_mode": {
    "name": "ipython",
    "version": 3
   },
   "file_extension": ".py",
   "mimetype": "text/x-python",
   "name": "python",
   "nbconvert_exporter": "python",
   "pygments_lexer": "ipython3",
   "version": "3.9.12"
  },
  "vscode": {
   "interpreter": {
    "hash": "1839666a982f4ef5a1d4e998e8f76237cb79238cfac899505fe1a2b76c14e8f8"
   }
  }
 },
 "nbformat": 4,
 "nbformat_minor": 5
}
